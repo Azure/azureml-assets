{
 "cells": [
  {
   "cell_type": "code",
   "execution_count": 18,
   "metadata": {},
   "outputs": [
    {
     "ename": "ModuleNotFoundError",
     "evalue": "No module named 'span_tree_utils'",
     "output_type": "error",
     "traceback": [
      "\u001b[1;31m---------------------------------------------------------------------------\u001b[0m",
      "\u001b[1;31mModuleNotFoundError\u001b[0m                       Traceback (most recent call last)",
      "Cell \u001b[1;32mIn[18], line 15\u001b[0m\n\u001b[0;32m     13\u001b[0m \u001b[38;5;28;01mfrom\u001b[39;00m \u001b[38;5;21;01mpyspark\u001b[39;00m\u001b[38;5;21;01m.\u001b[39;00m\u001b[38;5;21;01msql\u001b[39;00m \u001b[38;5;28;01mimport\u001b[39;00m SparkSession\n\u001b[0;32m     14\u001b[0m \u001b[38;5;28;01mfrom\u001b[39;00m \u001b[38;5;21;01mpyspark\u001b[39;00m\u001b[38;5;21;01m.\u001b[39;00m\u001b[38;5;21;01msql\u001b[39;00m\u001b[38;5;21;01m.\u001b[39;00m\u001b[38;5;21;01mtypes\u001b[39;00m \u001b[38;5;28;01mimport\u001b[39;00m StructType, StructField, StringType, TimestampType\n\u001b[1;32m---> 15\u001b[0m \u001b[38;5;28;01mfrom\u001b[39;00m \u001b[38;5;21;01mmodel_data_collector_preprocessor\u001b[39;00m\u001b[38;5;21;01m.\u001b[39;00m\u001b[38;5;21;01mtrace_aggregator\u001b[39;00m \u001b[38;5;28;01mimport\u001b[39;00m (\n\u001b[0;32m     16\u001b[0m     process_spans_into_aggregated_traces,\n\u001b[0;32m     17\u001b[0m     _get_aggregated_trace_log_spark_df_schema\n\u001b[0;32m     18\u001b[0m )\n\u001b[0;32m     19\u001b[0m \u001b[38;5;28;01mimport\u001b[39;00m \u001b[38;5;21;01mpytest\u001b[39;00m\n",
      "File \u001b[1;32mc:\\Users\\alanpoblette\\source\\repos\\azureml-assets\\assets\\model_monitoring\\components\\src\\model_data_collector_preprocessor\\trace_aggregator.py:11\u001b[0m\n\u001b[0;32m      8\u001b[0m \u001b[38;5;28;01mfrom\u001b[39;00m \u001b[38;5;21;01mtyping\u001b[39;00m \u001b[38;5;28;01mimport\u001b[39;00m List\n\u001b[0;32m     10\u001b[0m \u001b[38;5;28;01mfrom\u001b[39;00m \u001b[38;5;21;01mshared_utilities\u001b[39;00m\u001b[38;5;21;01m.\u001b[39;00m\u001b[38;5;21;01mio_utils\u001b[39;00m \u001b[38;5;28;01mimport\u001b[39;00m init_spark\n\u001b[1;32m---> 11\u001b[0m \u001b[38;5;28;01mfrom\u001b[39;00m \u001b[38;5;21;01mspan_tree_utils\u001b[39;00m \u001b[38;5;28;01mimport\u001b[39;00m SpanTree, SpanTreeNode\n\u001b[0;32m     14\u001b[0m \u001b[38;5;28;01mdef\u001b[39;00m \u001b[38;5;21m_get_aggregated_trace_log_spark_df_schema\u001b[39m() \u001b[38;5;241m-\u001b[39m\u001b[38;5;241m>\u001b[39m StructType:\n\u001b[0;32m     15\u001b[0m \u001b[38;5;250m    \u001b[39m\u001b[38;5;124;03m\"\"\"Get Aggregated Trace Log DataFrame Schema.\"\"\"\u001b[39;00m\n",
      "\u001b[1;31mModuleNotFoundError\u001b[0m: No module named 'span_tree_utils'"
     ]
    }
   ],
   "source": [
    "import os, sys\n",
    "parent_dir = os.path.abspath('..')\n",
    "# the parent_dir could already be there if the kernel was not restarted,\n",
    "# and we run this cell again\n",
    "if parent_dir not in sys.path:\n",
    "    sys.path.append(parent_dir)\n",
    "\n",
    "\n",
    "from datetime import datetime\n",
    "from pyspark.sql import SparkSession\n",
    "from pyspark.sql.types import StructType, StructField, StringType, TimestampType\n",
    "from model_data_collector_preprocessor.trace_aggregator import (\n",
    "    process_spans_into_aggregated_traces,\n",
    "    _get_aggregated_trace_log_spark_df_schema\n",
    ")\n",
    "import pytest"
   ]
  },
  {
   "cell_type": "code",
   "execution_count": null,
   "metadata": {},
   "outputs": [],
   "source": [
    "def init_spark() -> SparkSession:\n",
    "    return SparkSession.builder.appName(\"test\").getOrCreate()\n",
    "\n",
    "_trace_log_schema = _get_aggregated_trace_log_spark_df_schema()\n",
    "\n",
    "_preprocessed_log_schema = StructType([\n",
    "    StructField('attributes', StringType(), False),\n",
    "    StructField('end_time', TimestampType(), False),\n",
    "    StructField('events', StringType(), False),\n",
    "    StructField('framework', StringType(), False),\n",
    "    StructField('input', StringType(), False),\n",
    "    StructField('links', StringType(), False),\n",
    "    StructField('name', StringType(), False),\n",
    "    StructField('output', StringType(), False),\n",
    "    StructField('parent_id', StringType(), True),\n",
    "    StructField('span_id', StringType(), False),\n",
    "    StructField('span_type', StringType(), False),\n",
    "    StructField('start_time', TimestampType(), False),\n",
    "    StructField('status', StringType(), False),\n",
    "    StructField('trace_id', StringType(), False),\n",
    "    # TODO: this field might not be in v1. Double check later\n",
    "    # StructField('session_id', StringType(), True),\n",
    "    # StructField('user_id', StringType(), True),\n",
    "])\n",
    "\n",
    "_span_log_data = [\n",
    "    [\"{}\", datetime(2024, 2, 5, 0, 8, 0), \"[]\", \"FLOW\", \"in\", \"[]\", \"name\",  \"out\", None] +\n",
    "    [\"1\", \"llm\", datetime(2024, 2, 5, 0, 1, 0), \"OK\", \"01\"],\n",
    "    [\"{}\", datetime(2024, 2, 5, 0, 5, 0), \"[]\", \"RAG\", \"in\", \"[]\", \"name\",  \"out\", \"1\"] +\n",
    "    [\"2\", \"llm\", datetime(2024, 2, 5, 0, 2, 0), \"OK\", \"01\"],\n",
    "    [\"{}\", datetime(2024, 2, 5, 0, 4, 0), \"[]\", \"INTERNAL\", \"in\", \"[]\", \"name\",  \"out\", \"2\"] +\n",
    "    [\"3\", \"llm\", datetime(2024, 2, 5, 0, 3, 0), \"OK\", \"01\"],\n",
    "    [\"{}\", datetime(2024, 2, 5, 0, 7, 0), \"[]\", \"LLM\", \"in\", \"[]\", \"name\",  \"out\", \"1\"] +\n",
    "    [\"4\", \"llm\", datetime(2024, 2, 5, 0, 6, 0), \"OK\", \"01\"]\n",
    "]\n",
    "\n",
    "_trace_log_data = [\n",
    "        [datetime(2024, 2, 5, 0, 8, 0), \"in\", \"out\", \"{\\\"TBD\\\": \\\"TBD\\\"}\", None] +\n",
    "        [datetime(2024, 2, 5, 0, 1, 0), \"01\", None],\n",
    "]"
   ]
  },
  {
   "cell_type": "code",
   "execution_count": null,
   "metadata": {},
   "outputs": [],
   "source": [
    "spark = init_spark()\n",
    "processed_spans_df = spark.createDataFrame(_span_log_data, _preprocessed_log_schema)\n",
    "expected_trace_df = spark.createDataFrame(_trace_log_data, _trace_log_schema)\n",
    "\n",
    "print(\"processed logs:\")\n",
    "processed_spans_df.show()\n",
    "processed_spans_df.printSchema()\n",
    "\n",
    "print(\"expected trace logs:\")\n",
    "expected_trace_df.show()\n",
    "expected_trace_df.printSchema()\n",
    "\n",
    "actual_trace_df = process_spans_into_aggregated_traces(processed_spans_df)\n",
    "\n",
    "print(\"actual trace logs:\")\n",
    "actual_trace_df.show()\n",
    "actual_trace_df.printSchema()"
   ]
  }
 ],
 "metadata": {
  "kernelspec": {
   "display_name": "momo-assets",
   "language": "python",
   "name": "python3"
  },
  "language_info": {
   "codemirror_mode": {
    "name": "ipython",
    "version": 3
   },
   "file_extension": ".py",
   "mimetype": "text/x-python",
   "name": "python",
   "nbconvert_exporter": "python",
   "pygments_lexer": "ipython3",
   "version": "3.8.18"
  }
 },
 "nbformat": 4,
 "nbformat_minor": 2
}
