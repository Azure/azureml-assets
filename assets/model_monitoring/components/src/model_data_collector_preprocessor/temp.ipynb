{
 "cells": [
  {
   "cell_type": "code",
   "execution_count": 1,
   "metadata": {},
   "outputs": [],
   "source": [
    "\n",
    "import bisect\n",
    "import json\n",
    "import pandas as pd\n",
    "\n",
    "\n",
    "from pyspark.sql import DataFrame, Row, SparkSession\n",
    "from pyspark.sql.types import StructType, StructField, StringType, TimestampNTZType, ArrayType, DataType\n",
    "from pyspark.sql.functions import from_json, to_json, udf, collect_list\n",
    "from typing import Dict, Iterator, List, Union"
   ]
  },
  {
   "cell_type": "code",
   "execution_count": 2,
   "metadata": {},
   "outputs": [],
   "source": [
    "span_log_schema = StructType(\n",
    "        [\n",
    "            StructField(\"trace_id\", StringType(), False),\n",
    "            StructField(\"span_id\", StringType(), False),\n",
    "            StructField(\"parent_id\", StringType(), False),\n",
    "            StructField(\"user_id\", StringType(), True),\n",
    "            StructField(\"session_id\", StringType(), True),\n",
    "            StructField(\"span_type\", StringType(), False),\n",
    "            StructField(\"start_time\", TimestampNTZType(), False),\n",
    "            StructField(\"end_time\", TimestampNTZType(), False),\n",
    "            StructField(\"name\", StringType(), False),\n",
    "            StructField(\"status\", StringType(), False),\n",
    "            StructField(\"framework\", StringType(), False),\n",
    "            StructField(\"input\", StringType(), False),\n",
    "            StructField(\"output\", StringType(), False),\n",
    "            StructField(\"attributes\", StringType(), False),\n",
    "            StructField(\"events\", ArrayType(DataType()), False),\n",
    "            StructField(\"links\", ArrayType(DataType()), False),\n",
    "        ]\n",
    "    )"
   ]
  },
  {
   "cell_type": "code",
   "execution_count": 3,
   "metadata": {},
   "outputs": [],
   "source": [
    "def init_spark() -> SparkSession:\n",
    "    \"\"\"Get or create spark session.\"\"\"\n",
    "    spark = SparkSession.builder.appName(\"AccessParquetFiles\").getOrCreate()\n",
    "    return spark\n",
    "\n",
    "spark = init_spark()"
   ]
  },
  {
   "cell_type": "code",
   "execution_count": 4,
   "metadata": {},
   "outputs": [
    {
     "name": "stdout",
     "output_type": "stream",
     "text": [
      "+--------------------+--------------------+-------------------+--------------------+--------------------+----------------+--------------------+------------+--------------------+-----------+--------------------+--------------------+--------------------+\n",
      "|               agent|     collectdatatype|       contentrange|       correlationid|                data| datacontenttype|                  id|modelversion|              source|specversion|                time|                type|          xrequestid|\n",
      "+--------------------+--------------------+-------------------+--------------------+--------------------+----------------+--------------------+------------+--------------------+-----------+--------------------+--------------------+--------------------+\n",
      "|azureml-ai-monito...|pandas.core.frame...|    bytes 0-867/868|ee3c0e82-7edf-480...|[{2024-02-05T15:0...|application/json|6fee5e87-e702-40f...|     default|/subscriptions/96...|        1.0|2024-02-05T15:00:22Z|azureml.inference...|ee3c0e82-7edf-480...|\n",
      "|azureml-ai-monito...|pandas.core.frame...|  bytes 0-2125/2126|0683a146-03f1-4aa...|[{2024-02-05T15:0...|application/json|59ab58f7-cbf6-4f4...|     default|/subscriptions/96...|        1.0|2024-02-05T15:00:17Z|azureml.inference...|0683a146-03f1-4aa...|\n",
      "|azureml-ai-monito...|pandas.core.frame...|  bytes 0-9664/9665|a8d25f2e-2089-4c4...|[{2024-02-05T15:0...|application/json|37730a53-a3fe-425...|     default|/subscriptions/96...|        1.0|2024-02-05T15:00:22Z|azureml.inference...|a8d25f2e-2089-4c4...|\n",
      "|azureml-ai-monito...|pandas.core.frame...|  bytes 0-5386/5387|566b7a59-9c2a-475...|[{2024-02-05T15:0...|application/json|7945cce6-a17f-471...|     default|/subscriptions/96...|        1.0|2024-02-05T15:00:22Z|azureml.inference...|566b7a59-9c2a-475...|\n",
      "|azureml-ai-monito...|pandas.core.frame...|  bytes 0-7205/7206|c8f691e6-376b-4ad...|[{2024-02-05T15:0...|application/json|b55484ce-43a0-4f6...|     default|/subscriptions/96...|        1.0|2024-02-05T15:00:22Z|azureml.inference...|c8f691e6-376b-4ad...|\n",
      "|azureml-ai-monito...|pandas.core.frame...|  bytes 0-6179/6180|b1ffd289-d325-477...|[{2024-02-05T15:0...|application/json|bcf9fd6a-694b-43f...|     default|/subscriptions/96...|        1.0|2024-02-05T15:00:22Z|azureml.inference...|b1ffd289-d325-477...|\n",
      "|azureml-ai-monito...|pandas.core.frame...|  bytes 0-9201/9202|81134217-0100-463...|[{2024-02-05T15:0...|application/json|43d2493b-33d2-4ca...|     default|/subscriptions/96...|        1.0|2024-02-05T15:00:22Z|azureml.inference...|81134217-0100-463...|\n",
      "|azureml-ai-monito...|pandas.core.frame...|  bytes 0-6141/6142|1c16dc7d-c10e-4d4...|[{2024-02-05T15:0...|application/json|9be18d14-3fac-494...|     default|/subscriptions/96...|        1.0|2024-02-05T15:00:22Z|azureml.inference...|1c16dc7d-c10e-4d4...|\n",
      "|azureml-ai-monito...|pandas.core.frame...|  bytes 0-1428/1429|b7fdb4b5-4904-45d...|[{2024-02-05T15:0...|application/json|d8fa94f7-0d57-478...|     default|/subscriptions/96...|        1.0|2024-02-05T15:00:17Z|azureml.inference...|b7fdb4b5-4904-45d...|\n",
      "|azureml-ai-monito...|pandas.core.frame...|bytes 0-49333/49334|ba98f534-0803-40f...|[{2024-02-05T15:0...|application/json|939b0ed2-e8b5-481...|     default|/subscriptions/96...|        1.0|2024-02-05T15:00:22Z|azureml.inference...|ba98f534-0803-40f...|\n",
      "+--------------------+--------------------+-------------------+--------------------+--------------------+----------------+--------------------+------------+--------------------+-----------+--------------------+--------------------+--------------------+\n",
      "\n"
     ]
    }
   ],
   "source": [
    "df = spark.read.json(\"./sample_preprocessed_span.jsonl\")\n",
    "df.show()"
   ]
  },
  {
   "cell_type": "code",
   "execution_count": 5,
   "metadata": {},
   "outputs": [
    {
     "name": "stdout",
     "output_type": "stream",
     "text": [
      "Row(end_time='2024-02-05T15:00:18.791564Z', events=[], input='{\\n  \"question\": \"what\\'s Attention?\",\\n  \"chat_history\": []\\n}', links=[], name='promptflow.flow', output='{\\n  \"output\": \"Attention is a mechanism used in machine learning models to focus on specific parts of input data when making predictions or generating output. It allows the model to selectively weigh different parts of the input, giving more importance to certain aspects and ignoring others. (Source: 1706.03762.pdf)\"\\n}', parent_id=None, session_id='', span_id='0x7fd179134fb9e709', span_type='SpanKind.INTERNAL', start_time='2024-02-05T15:00:13.789782Z', status='OK', trace_id='0xccf497116a5a912b29e55229bbac0ba8', user_id='')\n"
     ]
    }
   ],
   "source": [
    "logs_data = df.select('data').collect()\n",
    "preprocessed_log_data = []\n",
    "for log in logs_data:\n",
    "    preprocessed_log_data.append(log.data[0])\n",
    "print(preprocessed_log_data[0])"
   ]
  },
  {
   "cell_type": "code",
   "execution_count": 6,
   "metadata": {},
   "outputs": [
    {
     "name": "stdout",
     "output_type": "stream",
     "text": [
      "+--------------------+------+--------------------+-----+--------------------+--------------------+------------------+----------+------------------+-----------------+--------------------+------+--------------------+-------+\n",
      "|            end_time|events|               input|links|                name|              output|         parent_id|session_id|           span_id|        span_type|          start_time|status|            trace_id|user_id|\n",
      "+--------------------+------+--------------------+-----+--------------------+--------------------+------------------+----------+------------------+-----------------+--------------------+------+--------------------+-------+\n",
      "|2024-02-05T15:00:...|    []|{\\n  \"question\": ...|   []|     promptflow.flow|{\\n  \"output\": \"A...|              NULL|          |0x7fd179134fb9e709|SpanKind.INTERNAL|2024-02-05T15:00:...|    OK|0xccf497116a5a912...|       |\n",
      "|2024-02-05T15:00:...|    []|{\\n  \"model\": \"gp...|   []|openai.resources....|{\\n  \"id\": \"chatc...|0x21d2ebaaad77bedf|      NULL|0x6275bb0c2a2594e0|SpanKind.INTERNAL|2024-02-05T15:00:...|    OK|0xccf497116a5a912...|   NULL|\n",
      "|2024-02-05T15:00:...|    []|{\\n  \"search_resu...|   []|generate_prompt_c...|\"Content: Title: ...|0x7fd179134fb9e709|      NULL|0x3d101a004d88e6d0|SpanKind.INTERNAL|2024-02-05T15:00:...|    OK|0xccf497116a5a912...|   NULL|\n",
      "|2024-02-05T15:00:...|    []|{\\n  \"prompt\": \"{...|   []|answer_the_questi...|\"Attention is a m...|0x7fd179134fb9e709|      NULL|0xcda5d0e89f4747df|SpanKind.INTERNAL|2024-02-05T15:00:...|    OK|0xccf497116a5a912...|   NULL|\n",
      "|2024-02-05T15:00:...|    []|{\\n  \"mlindex_con...|   []|       vector_lookup|[\\n  {\\n    \"text...|0x7fd179134fb9e709|      NULL|0xd25a6f7c89885b7f|SpanKind.INTERNAL|2024-02-05T15:00:...|    OK|0xccf497116a5a912...|   NULL|\n",
      "|2024-02-05T15:00:...|    []|{\\n  \"model\": \"gp...|   []|openai.resources....|{\\n  \"id\": \"chatc...|0xcda5d0e89f4747df|      NULL|0x52355639a5440992|SpanKind.INTERNAL|2024-02-05T15:00:...|    OK|0xccf497116a5a912...|   NULL|\n",
      "|2024-02-05T15:00:...|    []|{\\n  \"template\": ...|   []|     Prompt_variants|\"system: \\nYou ar...|0x7fd179134fb9e709|      NULL|0x1a77eee854345f20|SpanKind.INTERNAL|2024-02-05T15:00:...|    OK|0xccf497116a5a912...|   NULL|\n",
      "|2024-02-05T15:00:...|    []|                    |   []|              search|                NULL|0xd25a6f7c89885b7f|      NULL|0x1bb2aa9e6b530b09|SpanKind.INTERNAL|2024-02-05T15:00:...| UNSET|0xccf497116a5a912...|   NULL|\n",
      "|2024-02-05T15:00:...|    []|{\\n  \"prompt\": \"s...|   []|modify_query_with...|\"What is the mean...|0x7fd179134fb9e709|      NULL|0x21d2ebaaad77bedf|SpanKind.INTERNAL|2024-02-05T15:00:...|    OK|0xccf497116a5a912...|   NULL|\n",
      "|2024-02-05T15:00:...|    []|{\\n  \"input\": [\\n...|   []|openai.resources....|{\\n  \"data\": [\\n ...|0x1bb2aa9e6b530b09|      NULL|0xde147526538f191d|SpanKind.INTERNAL|2024-02-05T15:00:...|    OK|0xccf497116a5a912...|   NULL|\n",
      "+--------------------+------+--------------------+-----+--------------------+--------------------+------------------+----------+------------------+-----------------+--------------------+------+--------------------+-------+\n",
      "\n"
     ]
    }
   ],
   "source": [
    "span_schema = StructType([\n",
    "        StructField('end_time', StringType(), False),\n",
    "        StructField('events', ArrayType(StringType(), True), False), \n",
    "        StructField('input', StringType(), False), \n",
    "        StructField('links', ArrayType(StringType(), True), False), \n",
    "        StructField('name', StringType(), False), \n",
    "        StructField('output', StringType(), True), \n",
    "        StructField('parent_id', StringType(), True), \n",
    "        StructField('session_id', StringType(), True), \n",
    "        StructField('span_id', StringType(), False), \n",
    "        StructField('span_type', StringType(), False), \n",
    "        StructField('start_time', StringType(), True), \n",
    "        StructField('status', StringType(), True), \n",
    "        StructField('trace_id', StringType(), True),\n",
    "        StructField('user_id', StringType(), True)\n",
    "])\n",
    "\n",
    "span_logs = spark.createDataFrame(data=preprocessed_log_data, schema=span_schema)\n",
    "span_logs.show()"
   ]
  },
  {
   "cell_type": "code",
   "execution_count": 7,
   "metadata": {},
   "outputs": [
    {
     "name": "stdout",
     "output_type": "stream",
     "text": [
      "+--------------------+\n",
      "|            trace_id|\n",
      "+--------------------+\n",
      "|0xccf497116a5a912...|\n",
      "+--------------------+\n",
      "\n"
     ]
    }
   ],
   "source": [
    "distinct_trace_ids = span_logs.select(\"trace_id\").distinct()\n",
    "distinct_trace_ids.show()"
   ]
  },
  {
   "cell_type": "code",
   "execution_count": 8,
   "metadata": {},
   "outputs": [],
   "source": [
    "traces = distinct_trace_ids.collect()"
   ]
  },
  {
   "cell_type": "code",
   "execution_count": 9,
   "metadata": {},
   "outputs": [
    {
     "name": "stdout",
     "output_type": "stream",
     "text": [
      "+--------------------+------+--------------------+-----+--------------------+--------------------+------------------+----------+------------------+-----------------+--------------------+------+--------------------+-------+\n",
      "|            end_time|events|               input|links|                name|              output|         parent_id|session_id|           span_id|        span_type|          start_time|status|            trace_id|user_id|\n",
      "+--------------------+------+--------------------+-----+--------------------+--------------------+------------------+----------+------------------+-----------------+--------------------+------+--------------------+-------+\n",
      "|2024-02-05T15:00:...|    []|{\\n  \"question\": ...|   []|     promptflow.flow|{\\n  \"output\": \"A...|              NULL|          |0x7fd179134fb9e709|SpanKind.INTERNAL|2024-02-05T15:00:...|    OK|0xccf497116a5a912...|       |\n",
      "|2024-02-05T15:00:...|    []|{\\n  \"model\": \"gp...|   []|openai.resources....|{\\n  \"id\": \"chatc...|0x21d2ebaaad77bedf|      NULL|0x6275bb0c2a2594e0|SpanKind.INTERNAL|2024-02-05T15:00:...|    OK|0xccf497116a5a912...|   NULL|\n",
      "|2024-02-05T15:00:...|    []|{\\n  \"search_resu...|   []|generate_prompt_c...|\"Content: Title: ...|0x7fd179134fb9e709|      NULL|0x3d101a004d88e6d0|SpanKind.INTERNAL|2024-02-05T15:00:...|    OK|0xccf497116a5a912...|   NULL|\n",
      "|2024-02-05T15:00:...|    []|{\\n  \"prompt\": \"{...|   []|answer_the_questi...|\"Attention is a m...|0x7fd179134fb9e709|      NULL|0xcda5d0e89f4747df|SpanKind.INTERNAL|2024-02-05T15:00:...|    OK|0xccf497116a5a912...|   NULL|\n",
      "|2024-02-05T15:00:...|    []|{\\n  \"mlindex_con...|   []|       vector_lookup|[\\n  {\\n    \"text...|0x7fd179134fb9e709|      NULL|0xd25a6f7c89885b7f|SpanKind.INTERNAL|2024-02-05T15:00:...|    OK|0xccf497116a5a912...|   NULL|\n",
      "|2024-02-05T15:00:...|    []|{\\n  \"model\": \"gp...|   []|openai.resources....|{\\n  \"id\": \"chatc...|0xcda5d0e89f4747df|      NULL|0x52355639a5440992|SpanKind.INTERNAL|2024-02-05T15:00:...|    OK|0xccf497116a5a912...|   NULL|\n",
      "|2024-02-05T15:00:...|    []|{\\n  \"template\": ...|   []|     Prompt_variants|\"system: \\nYou ar...|0x7fd179134fb9e709|      NULL|0x1a77eee854345f20|SpanKind.INTERNAL|2024-02-05T15:00:...|    OK|0xccf497116a5a912...|   NULL|\n",
      "|2024-02-05T15:00:...|    []|                    |   []|              search|                NULL|0xd25a6f7c89885b7f|      NULL|0x1bb2aa9e6b530b09|SpanKind.INTERNAL|2024-02-05T15:00:...| UNSET|0xccf497116a5a912...|   NULL|\n",
      "|2024-02-05T15:00:...|    []|{\\n  \"prompt\": \"s...|   []|modify_query_with...|\"What is the mean...|0x7fd179134fb9e709|      NULL|0x21d2ebaaad77bedf|SpanKind.INTERNAL|2024-02-05T15:00:...|    OK|0xccf497116a5a912...|   NULL|\n",
      "|2024-02-05T15:00:...|    []|{\\n  \"input\": [\\n...|   []|openai.resources....|{\\n  \"data\": [\\n ...|0x1bb2aa9e6b530b09|      NULL|0xde147526538f191d|SpanKind.INTERNAL|2024-02-05T15:00:...|    OK|0xccf497116a5a912...|   NULL|\n",
      "+--------------------+------+--------------------+-----+--------------------+--------------------+------------------+----------+------------------+-----------------+--------------------+------+--------------------+-------+\n",
      "\n"
     ]
    },
    {
     "data": {
      "text/plain": [
       "StructType([StructField('end_time', StringType(), False), StructField('events', ArrayType(StringType(), True), False), StructField('input', StringType(), False), StructField('links', ArrayType(StringType(), True), False), StructField('name', StringType(), False), StructField('output', StringType(), True), StructField('parent_id', StringType(), True), StructField('session_id', StringType(), True), StructField('span_id', StringType(), False), StructField('span_type', StringType(), False), StructField('start_time', StringType(), True), StructField('status', StringType(), True), StructField('trace_id', StringType(), True), StructField('user_id', StringType(), True)])"
      ]
     },
     "execution_count": 9,
     "metadata": {},
     "output_type": "execute_result"
    }
   ],
   "source": [
    "trace_spans = span_logs.where(span_logs.trace_id == traces[0].trace_id)\n",
    "trace_spans.show()\n",
    "trace_spans.schema"
   ]
  },
  {
   "cell_type": "code",
   "execution_count": 10,
   "metadata": {},
   "outputs": [],
   "source": [
    "from trace_aggregator import SpanTree, Span\n",
    "\n",
    "span_rows = trace_spans.collect()\n",
    "span_list = [Span(row) for row in span_rows]\n",
    "tree_builder = SpanTree(span_list)"
   ]
  },
  {
   "cell_type": "code",
   "execution_count": 11,
   "metadata": {},
   "outputs": [
    {
     "data": {
      "text/plain": [
       "['trace_id',\n",
       " 'user_id',\n",
       " 'session_id',\n",
       " 'start_time',\n",
       " 'end_time',\n",
       " 'input',\n",
       " 'output',\n",
       " 'root_span']"
      ]
     },
     "execution_count": 11,
     "metadata": {},
     "output_type": "execute_result"
    }
   ],
   "source": [
    "trace_schema = StructType(\n",
    "        [\n",
    "            StructField(\"trace_id\", StringType(), False),\n",
    "            StructField(\"user_id\", StringType(), True),\n",
    "            StructField(\"session_id\", StringType(), True),\n",
    "            StructField(\"start_time\", StringType(), False),\n",
    "            StructField(\"end_time\", StringType(), False),\n",
    "            StructField(\"input\", StringType(), False),\n",
    "            StructField(\"output\", StringType(), False),\n",
    "            StructField(\"root_span\", StringType(), True),\n",
    "        ]\n",
    "    )\n",
    "\n",
    "agg_trace_schema_names = trace_schema.fieldNames()\n",
    "agg_trace_schema_names"
   ]
  },
  {
   "cell_type": "code",
   "execution_count": 15,
   "metadata": {},
   "outputs": [
    {
     "name": "stdout",
     "output_type": "stream",
     "text": [
      "{'trace_id': '0xccf497116a5a912b29e55229bbac0ba8', 'user_id': '', 'session_id': '', 'start_time': '2024-02-05T15:00:13.789782Z', 'end_time': '2024-02-05T15:00:18.791564Z', 'input': '{\\n  \"question\": \"what\\'s Attention?\",\\n  \"chat_history\": []\\n}', 'output': '{\\n  \"output\": \"Attention is a mechanism used in machine learning models to focus on specific parts of input data when making predictions or generating output. It allows the model to selectively weigh different parts of the input, giving more importance to certain aspects and ignoring others. (Source: 1706.03762.pdf)\"\\n}', 'root_span': '<trace_aggregator.Span object at 0x0000020D5867A4F0>'}\n"
     ]
    }
   ],
   "source": [
    "span_dict = tree_builder.root_span.span_row.asDict()\n",
    "data = {key_name: span_dict.get(key_name, None) for key_name in agg_trace_schema_names}\n",
    "data['root_span'] = str(tree_builder.root_span)\n",
    "print(data)"
   ]
  },
  {
   "cell_type": "code",
   "execution_count": 19,
   "metadata": {},
   "outputs": [
    {
     "name": "stdout",
     "output_type": "stream",
     "text": [
      "+--------------------+-------+----------+--------------------+--------------------+--------------------+--------------------+--------------------+\n",
      "|            trace_id|user_id|session_id|          start_time|            end_time|               input|              output|           root_span|\n",
      "+--------------------+-------+----------+--------------------+--------------------+--------------------+--------------------+--------------------+\n",
      "|0xccf497116a5a912...|       |          |2024-02-05T15:00:...|2024-02-05T15:00:...|{\\n  \"question\": ...|{\\n  \"output\": \"A...|<trace_aggregator...|\n",
      "+--------------------+-------+----------+--------------------+--------------------+--------------------+--------------------+--------------------+\n",
      "\n"
     ]
    }
   ],
   "source": [
    "new_entry = spark.createDataFrame([data], trace_schema)\n",
    "new_entry.show()"
   ]
  },
  {
   "cell_type": "code",
   "execution_count": 14,
   "metadata": {},
   "outputs": [
    {
     "data": {
      "text/plain": [
       "'{\"end_time\": \"2024-02-05T15:00:18.791564Z\", \"events\": [], \"input\": \"{\\\\n  \\\\\"question\\\\\": \\\\\"what\\'s Attention?\\\\\",\\\\n  \\\\\"chat_history\\\\\": []\\\\n}\", \"links\": [], \"name\": \"promptflow.flow\", \"output\": \"{\\\\n  \\\\\"output\\\\\": \\\\\"Attention is a mechanism used in machine learning models to focus on specific parts of input data when making predictions or generating output. It allows the model to selectively weigh different parts of the input, giving more importance to certain aspects and ignoring others. (Source: 1706.03762.pdf)\\\\\"\\\\n}\", \"parent_id\": null, \"session_id\": \"\", \"span_id\": \"0x7fd179134fb9e709\", \"span_type\": \"SpanKind.INTERNAL\", \"start_time\": \"2024-02-05T15:00:13.789782Z\", \"status\": \"OK\", \"trace_id\": \"0xccf497116a5a912b29e55229bbac0ba8\", \"user_id\": \"\"}'"
      ]
     },
     "execution_count": 14,
     "metadata": {},
     "output_type": "execute_result"
    }
   ],
   "source": [
    "json.dumps(tree_builder.root_span.span_row.asDict())"
   ]
  },
  {
   "cell_type": "code",
   "execution_count": null,
   "metadata": {},
   "outputs": [],
   "source": []
  }
 ],
 "metadata": {
  "kernelspec": {
   "display_name": "momo-assets",
   "language": "python",
   "name": "python3"
  },
  "language_info": {
   "codemirror_mode": {
    "name": "ipython",
    "version": 3
   },
   "file_extension": ".py",
   "mimetype": "text/x-python",
   "name": "python",
   "nbconvert_exporter": "python",
   "pygments_lexer": "ipython3",
   "version": "3.8.18"
  }
 },
 "nbformat": 4,
 "nbformat_minor": 2
}
