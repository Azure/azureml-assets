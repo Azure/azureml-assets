{
 "cells": [
  {
   "cell_type": "code",
   "execution_count": null,
   "metadata": {},
   "outputs": [],
   "source": [
    "DATASET_NAME = 'Flowers-101'\n",
    "datasets_datastore_uri = \"azureml://subscriptions/dbd697c3-ef40-488f-83e6-5ad4dfb78f9b/resourcegroups/rbhimani-rg/workspaces/rbhimani-eastus/datastores/datasets\"\n",
    "jsonl_path = f'Benchmarks/{DATASET_NAME}/Benchmark_TEST_MC.jsonl'"
   ]
  },
  {
   "cell_type": "code",
   "execution_count": null,
   "metadata": {},
   "outputs": [],
   "source": [
    "from azureml.fsspec import AzureMachineLearningFileSystem\n",
    "import pandas as pd\n",
    "\n",
    "fs = AzureMachineLearningFileSystem(datasets_datastore_uri)\n",
    "df = pd.read_json(datasets_datastore_uri + \"/paths/\" + jsonl_path, lines=True)"
   ]
  },
  {
   "cell_type": "code",
   "execution_count": null,
   "metadata": {},
   "outputs": [],
   "source": [
    "# get the text input\n",
    "text_labels_array = df['label'].unique()\n",
    "text_labels = ','.join(text_labels_array)\n",
    "print(text_labels)"
   ]
  },
  {
   "cell_type": "code",
   "execution_count": null,
   "metadata": {},
   "outputs": [],
   "source": [
    "# decode images\n",
    "import base64\n",
    "import os\n",
    "def read_image(fs, image_path):\n",
    "    with fs.open(image_path, \"rb\") as f:\n",
    "        return f.read()\n",
    "\n",
    "data_out = []\n",
    "for index, row in df.iterrows():\n",
    "    sample = {}\n",
    "    image_dir = './data'\n",
    "    datastore_image_path = row['image_url'].split(DATASET_NAME)[1]\n",
    "    image_path = datasets_datastore_uri + '/paths/Benchmarks/' + DATASET_NAME + datastore_image_path\n",
    "    sample['image'] = base64.b64encode(read_image(fs, image_path)).decode(\"utf-8\")\n",
    "    sample['text'] = text_labels\n",
    "    sample['label'] = row['label']\n",
    "    data_out.append(sample)"
   ]
  },
  {
   "cell_type": "code",
   "execution_count": null,
   "metadata": {},
   "outputs": [],
   "source": [
    "# write processed jsonl file\n",
    "import json\n",
    "OUTPUT_FILE_NAME = os.path.join(\"./output_jsonls\", f'{DATASET_NAME}_processed.jsonl')\n",
    "with open(OUTPUT_FILE_NAME, 'w') as f:\n",
    "    for sample in data_out:\n",
    "        f.write(json.dumps(sample) + '\\n')"
   ]
  },
  {
   "cell_type": "code",
   "execution_count": null,
   "metadata": {},
   "outputs": [],
   "source": []
  }
 ],
 "metadata": {
  "kernelspec": {
   "display_name": "rc_133",
   "language": "python",
   "name": "python3"
  },
  "language_info": {
   "codemirror_mode": {
    "name": "ipython",
    "version": 3
   },
   "file_extension": ".py",
   "mimetype": "text/x-python",
   "name": "python",
   "nbconvert_exporter": "python",
   "pygments_lexer": "ipython3",
   "version": "3.7.10"
  }
 },
 "nbformat": 4,
 "nbformat_minor": 2
}
