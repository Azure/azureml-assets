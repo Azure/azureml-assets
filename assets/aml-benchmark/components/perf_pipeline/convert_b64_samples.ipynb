{
 "cells": [
  {
   "cell_type": "code",
   "execution_count": 1,
   "metadata": {},
   "outputs": [],
   "source": [
    "JSONL_FILE = \"./10_samples_large.jsonl\"\n",
    "OUT_JSONL_FILE = \"./10_samples_large_b64.jsonl\""
   ]
  },
  {
   "cell_type": "code",
   "execution_count": 10,
   "metadata": {},
   "outputs": [],
   "source": [
    "import json\n",
    "import base64\n",
    "\n",
    "out_lines = []\n",
    "with open(JSONL_FILE, \"r\") as f:\n",
    "    in_lines = f.readlines()\n",
    "\n",
    "for line in in_lines:\n",
    "    line_dict = json.loads(line)\n",
    "    line_dict['image'] = base64.b64encode(base64.b64decode(line_dict['image'])).decode('utf-8')\n",
    "    out_lines.append(line_dict)\n",
    "\n",
    "with open(OUT_JSONL_FILE, \"w\") as f:\n",
    "    for line in out_lines:\n",
    "        f.write(json.dumps(line) + \"\\n\")"
   ]
  },
  {
   "cell_type": "code",
   "execution_count": null,
   "metadata": {},
   "outputs": [],
   "source": []
  }
 ],
 "metadata": {
  "kernelspec": {
   "display_name": "rc_133",
   "language": "python",
   "name": "python3"
  },
  "language_info": {
   "codemirror_mode": {
    "name": "ipython",
    "version": 3
   },
   "file_extension": ".py",
   "mimetype": "text/x-python",
   "name": "python",
   "nbconvert_exporter": "python",
   "pygments_lexer": "ipython3",
   "version": "3.7.10"
  }
 },
 "nbformat": 4,
 "nbformat_minor": 2
}
