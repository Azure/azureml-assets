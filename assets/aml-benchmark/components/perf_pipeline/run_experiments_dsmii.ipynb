{
 "cells": [
  {
   "cell_type": "code",
   "execution_count": 1,
   "metadata": {},
   "outputs": [
    {
     "name": "stderr",
     "output_type": "stream",
     "text": [
      "Found the config file in: c:\\Users\\rbhimani\\code\\azureml-assets\\config.json\n"
     ]
    }
   ],
   "source": [
    "from azure.ai.ml import load_component\n",
    "# Import required libraries\n",
    "from azure.identity import DefaultAzureCredential\n",
    "from azure.ai.ml import MLClient\n",
    "\n",
    "credential = DefaultAzureCredential()\n",
    "ml_client = None\n",
    "try:\n",
    "    ml_client = MLClient.from_config(credential)\n",
    "except Exception as ex:\n",
    "    print(ex)\n",
    "    # Enter details of your AML workspace\n",
    "    subscription_id = \"<SUBSCRIPTION_ID>\"\n",
    "    resource_group = \"<RESOURCE_GROUP>\"\n",
    "    workspace = \"<AML_WORKSPACE_NAME>\"\n",
    "    ml_client = MLClient(credential, subscription_id, resource_group, workspace)"
   ]
  },
  {
   "cell_type": "code",
   "execution_count": 2,
   "metadata": {},
   "outputs": [],
   "source": [
    "import yaml\n",
    "\n",
    "tmp_yml_path = \"./temp_perf_pipeline_dsmii.yml\"\n",
    "src_yml_path = \"./perf_pipeline_clip_base_dsmii.yml\"\n",
    "\n",
    "input_params_list = [\n",
    "    {\n",
    "    \"concurrent_requests\" : 1,\n",
    "    },\n",
    "    {\n",
    "    \"concurrent_requests\" : 2,\n",
    "    },\n",
    "    {\n",
    "    \"concurrent_requests\" : 4,\n",
    "    },\n",
    "    {\n",
    "    \"concurrent_requests\" : 8,\n",
    "    },\n",
    "]\n"
   ]
  },
  {
   "cell_type": "code",
   "execution_count": 3,
   "metadata": {},
   "outputs": [
    {
     "name": "stderr",
     "output_type": "stream",
     "text": [
      "Class AutoDeleteSettingSchema: This is an experimental class, and may change at any time. Please see https://aka.ms/azuremlexperimental for more information.\n",
      "Class AutoDeleteConditionSchema: This is an experimental class, and may change at any time. Please see https://aka.ms/azuremlexperimental for more information.\n",
      "Class BaseAutoDeleteSettingSchema: This is an experimental class, and may change at any time. Please see https://aka.ms/azuremlexperimental for more information.\n",
      "Class IntellectualPropertySchema: This is an experimental class, and may change at any time. Please see https://aka.ms/azuremlexperimental for more information.\n",
      "Class ProtectionLevelSchema: This is an experimental class, and may change at any time. Please see https://aka.ms/azuremlexperimental for more information.\n",
      "Class BaseIntellectualPropertySchema: This is an experimental class, and may change at any time. Please see https://aka.ms/azuremlexperimental for more information.\n"
     ]
    },
    {
     "name": "stdout",
     "output_type": "stream",
     "text": [
      "RunId: wheat_tent_g471ttd5v2\n",
      "Web View: https://ml.azure.com/runs/wheat_tent_g471ttd5v2?wsid=/subscriptions/dbd697c3-ef40-488f-83e6-5ad4dfb78f9b/resourcegroups/rbhimani-rg/workspaces/rbhimani-eastus\n",
      "\n",
      "Streaming logs/azureml/executionlogs.txt\n",
      "========================================\n",
      "\n",
      "[2024-01-02 18:50:38Z] Submitting 1 runs, first five are: 456aa186:1ee89c6c-d2e4-44bc-91fe-0016f323a59f\n",
      "[2024-01-02 19:04:53Z] Submitting 1 runs, first five are: 28d81768:b6c515e7-5505-494c-9215-5af4766e1288\n",
      "[2024-01-02 19:04:55Z] Completing processing run id 1ee89c6c-d2e4-44bc-91fe-0016f323a59f.\n",
      "[2024-01-02 19:10:46Z] Completing processing run id b6c515e7-5505-494c-9215-5af4766e1288.\n",
      "[2024-01-02 19:10:46Z] Submitting 1 runs, first five are: a1ae858b:7f3a2d8f-29f0-4423-b57c-cd5885e84b00\n",
      "[2024-01-02 19:19:42Z] Completing processing run id 7f3a2d8f-29f0-4423-b57c-cd5885e84b00.\n",
      "\n",
      "Execution Summary\n",
      "=================\n",
      "RunId: wheat_tent_g471ttd5v2\n",
      "Web View: https://ml.azure.com/runs/wheat_tent_g471ttd5v2?wsid=/subscriptions/dbd697c3-ef40-488f-83e6-5ad4dfb78f9b/resourcegroups/rbhimani-rg/workspaces/rbhimani-eastus\n",
      "\n",
      "RunId: clever_ball_f7l7yk0dw0\n",
      "Web View: https://ml.azure.com/runs/clever_ball_f7l7yk0dw0?wsid=/subscriptions/dbd697c3-ef40-488f-83e6-5ad4dfb78f9b/resourcegroups/rbhimani-rg/workspaces/rbhimani-eastus\n",
      "\n",
      "Streaming logs/azureml/executionlogs.txt\n",
      "========================================\n",
      "\n",
      "[2024-01-02 19:20:24Z] Submitting 1 runs, first five are: 687ca228:ed379696-37cb-4585-927b-aa4e4becd4fd\n",
      "[2024-01-02 19:36:25Z] Submitting 1 runs, first five are: e2ceee5e:c26d5a54-1ab8-4971-adc3-2514ee121951\n",
      "[2024-01-02 19:36:27Z] Completing processing run id ed379696-37cb-4585-927b-aa4e4becd4fd.\n",
      "[2024-01-02 19:42:13Z] Completing processing run id c26d5a54-1ab8-4971-adc3-2514ee121951.\n",
      "[2024-01-02 19:42:13Z] Submitting 1 runs, first five are: f0325f56:d6d0ecf0-29b7-4c0c-8549-0effc18b90b5\n",
      "[2024-01-02 19:50:10Z] Completing processing run id d6d0ecf0-29b7-4c0c-8549-0effc18b90b5.\n",
      "\n",
      "Execution Summary\n",
      "=================\n",
      "RunId: clever_ball_f7l7yk0dw0\n",
      "Web View: https://ml.azure.com/runs/clever_ball_f7l7yk0dw0?wsid=/subscriptions/dbd697c3-ef40-488f-83e6-5ad4dfb78f9b/resourcegroups/rbhimani-rg/workspaces/rbhimani-eastus\n",
      "\n",
      "RunId: boring_ear_2l0jh7wxkx\n",
      "Web View: https://ml.azure.com/runs/boring_ear_2l0jh7wxkx?wsid=/subscriptions/dbd697c3-ef40-488f-83e6-5ad4dfb78f9b/resourcegroups/rbhimani-rg/workspaces/rbhimani-eastus\n",
      "\n",
      "Streaming logs/azureml/executionlogs.txt\n",
      "========================================\n",
      "\n",
      "[2024-01-02 19:51:03Z] Submitting 1 runs, first five are: 4122b38a:02ef4941-e737-4948-8965-921373a86afb\n",
      "[2024-01-02 20:05:45Z] Submitting 1 runs, first five are: 77b23666:5fd57638-b424-4bbb-aa6c-7c67db11f0d4\n",
      "[2024-01-02 20:05:47Z] Completing processing run id 02ef4941-e737-4948-8965-921373a86afb.\n",
      "[2024-01-02 20:11:30Z] Completing processing run id 5fd57638-b424-4bbb-aa6c-7c67db11f0d4.\n",
      "[2024-01-02 20:11:30Z] Submitting 1 runs, first five are: 62ecf8e7:5c413b4b-b41e-4982-baaf-493e591c3459\n",
      "[2024-01-02 20:19:45Z] Completing processing run id 5c413b4b-b41e-4982-baaf-493e591c3459.\n",
      "\n",
      "Execution Summary\n",
      "=================\n",
      "RunId: boring_ear_2l0jh7wxkx\n",
      "Web View: https://ml.azure.com/runs/boring_ear_2l0jh7wxkx?wsid=/subscriptions/dbd697c3-ef40-488f-83e6-5ad4dfb78f9b/resourcegroups/rbhimani-rg/workspaces/rbhimani-eastus\n",
      "\n",
      "RunId: placid_insect_vkgdbx7v9t\n",
      "Web View: https://ml.azure.com/runs/placid_insect_vkgdbx7v9t?wsid=/subscriptions/dbd697c3-ef40-488f-83e6-5ad4dfb78f9b/resourcegroups/rbhimani-rg/workspaces/rbhimani-eastus\n",
      "\n",
      "Streaming logs/azureml/executionlogs.txt\n",
      "========================================\n",
      "\n",
      "[2024-01-02 20:20:44Z] Submitting 1 runs, first five are: 7830a89a:f6634274-cfce-4e36-9046-dc7ebeb55285\n",
      "[2024-01-02 20:34:56Z] Submitting 1 runs, first five are: 68d1deb8:d24ab1b4-3877-4ae4-b0b6-346cf67e970d\n",
      "[2024-01-02 20:34:58Z] Completing processing run id f6634274-cfce-4e36-9046-dc7ebeb55285.\n",
      "[2024-01-02 20:40:27Z] Completing processing run id d24ab1b4-3877-4ae4-b0b6-346cf67e970d.\n",
      "[2024-01-02 20:40:28Z] Submitting 1 runs, first five are: 6749172f:8c2641e4-355b-4a10-88cc-df81c4eb2d10\n",
      "[2024-01-02 20:48:21Z] Completing processing run id 8c2641e4-355b-4a10-88cc-df81c4eb2d10.\n",
      "\n",
      "Execution Summary\n",
      "=================\n",
      "RunId: placid_insect_vkgdbx7v9t\n",
      "Web View: https://ml.azure.com/runs/placid_insect_vkgdbx7v9t?wsid=/subscriptions/dbd697c3-ef40-488f-83e6-5ad4dfb78f9b/resourcegroups/rbhimani-rg/workspaces/rbhimani-eastus\n",
      "\n"
     ]
    }
   ],
   "source": [
    "completed_jobs = []\n",
    "for input_params in input_params_list:\n",
    "    with open(src_yml_path, \"r\") as yaml_file:\n",
    "        yaml_obj = yaml.safe_load(yaml_file)\n",
    "\n",
    "    # set dataset\n",
    "    # yaml_obj['jobs']['endpoint']['inputs']['input_dataset']['path'] = input_params['input_dataset_path']\n",
    "    # set concurrent requests\n",
    "    yaml_obj['jobs']['endpoint']['inputs']['initial_worker_count'] = input_params['concurrent_requests']\n",
    "    yaml_obj['jobs']['endpoint']['inputs']['max_worker_count'] = input_params['concurrent_requests']\n",
    "\n",
    "    with open(tmp_yml_path, \"w\") as yaml_file:\n",
    "        yaml_obj = yaml.dump(yaml_obj, yaml_file)\n",
    "\n",
    "    pipeline_job = load_component(source=tmp_yml_path)\n",
    "    returned_job = ml_client.jobs.create_or_update(pipeline_job())\n",
    "    ml_client.jobs.stream(returned_job.name)\n",
    "    completed_jobs.append(returned_job.name)"
   ]
  },
  {
   "cell_type": "code",
   "execution_count": 4,
   "metadata": {},
   "outputs": [
    {
     "data": {
      "text/plain": [
       "['wheat_tent_g471ttd5v2',\n",
       " 'clever_ball_f7l7yk0dw0',\n",
       " 'boring_ear_2l0jh7wxkx',\n",
       " 'placid_insect_vkgdbx7v9t']"
      ]
     },
     "execution_count": 4,
     "metadata": {},
     "output_type": "execute_result"
    }
   ],
   "source": [
    "completed_jobs"
   ]
  },
  {
   "cell_type": "code",
   "execution_count": null,
   "metadata": {},
   "outputs": [],
   "source": []
  }
 ],
 "metadata": {
  "kernelspec": {
   "display_name": "rc_133",
   "language": "python",
   "name": "python3"
  },
  "language_info": {
   "codemirror_mode": {
    "name": "ipython",
    "version": 3
   },
   "file_extension": ".py",
   "mimetype": "text/x-python",
   "name": "python",
   "nbconvert_exporter": "python",
   "pygments_lexer": "ipython3",
   "version": "3.7.10"
  }
 },
 "nbformat": 4,
 "nbformat_minor": 2
}
