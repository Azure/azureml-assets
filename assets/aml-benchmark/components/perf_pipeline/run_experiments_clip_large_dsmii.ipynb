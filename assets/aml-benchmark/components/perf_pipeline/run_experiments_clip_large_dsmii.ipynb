{
 "cells": [
  {
   "cell_type": "code",
   "execution_count": 1,
   "metadata": {},
   "outputs": [
    {
     "name": "stderr",
     "output_type": "stream",
     "text": [
      "Found the config file in: c:\\Users\\rbhimani\\code\\azureml-assets\\config.json\n"
     ]
    }
   ],
   "source": [
    "from azure.ai.ml import load_component\n",
    "# Import required libraries\n",
    "from azure.identity import DefaultAzureCredential\n",
    "from azure.ai.ml import MLClient\n",
    "\n",
    "credential = DefaultAzureCredential()\n",
    "ml_client = None\n",
    "try:\n",
    "    ml_client = MLClient.from_config(credential)\n",
    "except Exception as ex:\n",
    "    print(ex)\n",
    "    # Enter details of your AML workspace\n",
    "    subscription_id = \"<SUBSCRIPTION_ID>\"\n",
    "    resource_group = \"<RESOURCE_GROUP>\"\n",
    "    workspace = \"<AML_WORKSPACE_NAME>\"\n",
    "    ml_client = MLClient(credential, subscription_id, resource_group, workspace)"
   ]
  },
  {
   "cell_type": "code",
   "execution_count": 2,
   "metadata": {},
   "outputs": [],
   "source": [
    "import yaml\n",
    "\n",
    "tmp_yml_path = \"./temp_perf_pipeline_clip_large_dsmii.yml\"\n",
    "src_yml_path = \"./perf_pipeline_clip_large_dsmii.yml\"\n",
    "\n",
    "input_params_list = [\n",
    "    {\n",
    "    \"concurrent_requests\" : 1,\n",
    "    },\n",
    "    {\n",
    "    \"concurrent_requests\" : 2,\n",
    "    },\n",
    "    {\n",
    "    \"concurrent_requests\" : 4,\n",
    "    },\n",
    "    {\n",
    "    \"concurrent_requests\" : 8,\n",
    "    },\n",
    "]\n"
   ]
  },
  {
   "cell_type": "code",
   "execution_count": 3,
   "metadata": {},
   "outputs": [
    {
     "name": "stderr",
     "output_type": "stream",
     "text": [
      "Class AutoDeleteSettingSchema: This is an experimental class, and may change at any time. Please see https://aka.ms/azuremlexperimental for more information.\n",
      "Class AutoDeleteConditionSchema: This is an experimental class, and may change at any time. Please see https://aka.ms/azuremlexperimental for more information.\n",
      "Class BaseAutoDeleteSettingSchema: This is an experimental class, and may change at any time. Please see https://aka.ms/azuremlexperimental for more information.\n",
      "Class IntellectualPropertySchema: This is an experimental class, and may change at any time. Please see https://aka.ms/azuremlexperimental for more information.\n",
      "Class ProtectionLevelSchema: This is an experimental class, and may change at any time. Please see https://aka.ms/azuremlexperimental for more information.\n",
      "Class BaseIntellectualPropertySchema: This is an experimental class, and may change at any time. Please see https://aka.ms/azuremlexperimental for more information.\n"
     ]
    },
    {
     "name": "stdout",
     "output_type": "stream",
     "text": [
      "RunId: calm_duck_h5jpwj0gs8\n",
      "Web View: https://ml.azure.com/runs/calm_duck_h5jpwj0gs8?wsid=/subscriptions/dbd697c3-ef40-488f-83e6-5ad4dfb78f9b/resourcegroups/rbhimani-rg/workspaces/rbhimani-eastus\n",
      "\n",
      "Streaming logs/azureml/executionlogs.txt\n",
      "========================================\n",
      "\n",
      "[2024-01-02 18:50:42Z] Submitting 1 runs, first five are: 12bc3d17:8f35fce4-de5b-4a46-8626-c68173b97f1e\n",
      "[2024-01-02 19:16:08Z] Submitting 1 runs, first five are: 786bffbe:f0e0b167-6dce-4d48-bf32-37ce7819d35e\n",
      "[2024-01-02 19:16:10Z] Completing processing run id 8f35fce4-de5b-4a46-8626-c68173b97f1e.\n",
      "[2024-01-02 19:22:04Z] Completing processing run id f0e0b167-6dce-4d48-bf32-37ce7819d35e.\n",
      "[2024-01-02 19:22:05Z] Submitting 1 runs, first five are: 33a8ab67:7aca8901-0238-42a2-a7c4-b5b895838a21\n",
      "[2024-01-02 19:29:40Z] Completing processing run id 7aca8901-0238-42a2-a7c4-b5b895838a21.\n",
      "\n",
      "Execution Summary\n",
      "=================\n",
      "RunId: calm_duck_h5jpwj0gs8\n",
      "Web View: https://ml.azure.com/runs/calm_duck_h5jpwj0gs8?wsid=/subscriptions/dbd697c3-ef40-488f-83e6-5ad4dfb78f9b/resourcegroups/rbhimani-rg/workspaces/rbhimani-eastus\n",
      "\n",
      "RunId: funny_stick_ckp7jz2kdb\n",
      "Web View: https://ml.azure.com/runs/funny_stick_ckp7jz2kdb?wsid=/subscriptions/dbd697c3-ef40-488f-83e6-5ad4dfb78f9b/resourcegroups/rbhimani-rg/workspaces/rbhimani-eastus\n",
      "\n",
      "Streaming logs/azureml/executionlogs.txt\n",
      "========================================\n",
      "\n",
      "[2024-01-02 19:30:32Z] Submitting 1 runs, first five are: 8b18a5a3:6c055bd0-f3b5-4a0c-af18-12e43fab7ee2\n",
      "[2024-01-02 19:44:45Z] Submitting 1 runs, first five are: 4ae10c3b:c26eb824-531a-40fd-95e6-b7b027084a37\n",
      "[2024-01-02 19:44:47Z] Completing processing run id 6c055bd0-f3b5-4a0c-af18-12e43fab7ee2.\n",
      "[2024-01-02 19:50:16Z] Completing processing run id c26eb824-531a-40fd-95e6-b7b027084a37.\n",
      "[2024-01-02 19:50:16Z] Submitting 1 runs, first five are: fd390f0d:778dacbe-b6ad-4689-9b04-a66b3adbdf54\n",
      "[2024-01-02 19:57:52Z] Completing processing run id 778dacbe-b6ad-4689-9b04-a66b3adbdf54.\n",
      "\n",
      "Execution Summary\n",
      "=================\n",
      "RunId: funny_stick_ckp7jz2kdb\n",
      "Web View: https://ml.azure.com/runs/funny_stick_ckp7jz2kdb?wsid=/subscriptions/dbd697c3-ef40-488f-83e6-5ad4dfb78f9b/resourcegroups/rbhimani-rg/workspaces/rbhimani-eastus\n",
      "\n",
      "RunId: silver_juice_tsvhcs6sq7\n",
      "Web View: https://ml.azure.com/runs/silver_juice_tsvhcs6sq7?wsid=/subscriptions/dbd697c3-ef40-488f-83e6-5ad4dfb78f9b/resourcegroups/rbhimani-rg/workspaces/rbhimani-eastus\n",
      "\n",
      "Streaming logs/azureml/executionlogs.txt\n",
      "========================================\n",
      "\n",
      "[2024-01-02 19:58:10Z] Submitting 1 runs, first five are: 8a15673a:03315c4a-aa1c-4501-9103-de2942d78660\n",
      "[2024-01-02 20:01:35Z] Submitting 1 runs, first five are: 4de43327:ff55a988-024a-46a1-a43f-bd0b944c3a0c\n",
      "[2024-01-02 20:01:38Z] Completing processing run id 03315c4a-aa1c-4501-9103-de2942d78660.\n",
      "[2024-01-02 20:07:08Z] Completing processing run id ff55a988-024a-46a1-a43f-bd0b944c3a0c.\n",
      "[2024-01-02 20:07:08Z] Submitting 1 runs, first five are: cdf97f2e:506511c5-92da-4882-9d04-54feeb0f8e4a\n",
      "[2024-01-02 20:14:58Z] Completing processing run id 506511c5-92da-4882-9d04-54feeb0f8e4a.\n",
      "\n",
      "Execution Summary\n",
      "=================\n",
      "RunId: silver_juice_tsvhcs6sq7\n",
      "Web View: https://ml.azure.com/runs/silver_juice_tsvhcs6sq7?wsid=/subscriptions/dbd697c3-ef40-488f-83e6-5ad4dfb78f9b/resourcegroups/rbhimani-rg/workspaces/rbhimani-eastus\n",
      "\n",
      "RunId: coral_evening_33pkyhtrd1\n",
      "Web View: https://ml.azure.com/runs/coral_evening_33pkyhtrd1?wsid=/subscriptions/dbd697c3-ef40-488f-83e6-5ad4dfb78f9b/resourcegroups/rbhimani-rg/workspaces/rbhimani-eastus\n",
      "\n",
      "Streaming logs/azureml/executionlogs.txt\n",
      "========================================\n",
      "\n",
      "[2024-01-02 20:15:44Z] Submitting 1 runs, first five are: 42c407af:5a2ec377-d862-43b0-8bb7-50a0a402d446\n",
      "[2024-01-02 20:19:20Z] Submitting 1 runs, first five are: 449be305:5890f1ee-3e81-44d6-85ee-cc813612a9a4\n",
      "[2024-01-02 20:19:22Z] Completing processing run id 5a2ec377-d862-43b0-8bb7-50a0a402d446.\n",
      "[2024-01-02 20:25:10Z] Completing processing run id 5890f1ee-3e81-44d6-85ee-cc813612a9a4.\n",
      "[2024-01-02 20:25:10Z] Submitting 1 runs, first five are: 8129acdd:ca3e15ab-5310-4fe3-ae07-fa91d043b343\n",
      "[2024-01-02 20:33:15Z] Completing processing run id ca3e15ab-5310-4fe3-ae07-fa91d043b343.\n",
      "\n",
      "Execution Summary\n",
      "=================\n",
      "RunId: coral_evening_33pkyhtrd1\n",
      "Web View: https://ml.azure.com/runs/coral_evening_33pkyhtrd1?wsid=/subscriptions/dbd697c3-ef40-488f-83e6-5ad4dfb78f9b/resourcegroups/rbhimani-rg/workspaces/rbhimani-eastus\n",
      "\n"
     ]
    }
   ],
   "source": [
    "completed_jobs = []\n",
    "for input_params in input_params_list:\n",
    "    with open(src_yml_path, \"r\") as yaml_file:\n",
    "        yaml_obj = yaml.safe_load(yaml_file)\n",
    "\n",
    "    # set dataset\n",
    "    # yaml_obj['jobs']['endpoint']['inputs']['input_dataset']['path'] = input_params['input_dataset_path']\n",
    "    # set concurrent requests\n",
    "    yaml_obj['jobs']['endpoint']['inputs']['initial_worker_count'] = input_params['concurrent_requests']\n",
    "    yaml_obj['jobs']['endpoint']['inputs']['max_worker_count'] = input_params['concurrent_requests']\n",
    "\n",
    "    with open(tmp_yml_path, \"w\") as yaml_file:\n",
    "        yaml_obj = yaml.dump(yaml_obj, yaml_file)\n",
    "\n",
    "    pipeline_job = load_component(source=tmp_yml_path)\n",
    "    returned_job = ml_client.jobs.create_or_update(pipeline_job())\n",
    "    ml_client.jobs.stream(returned_job.name)\n",
    "    completed_jobs.append(returned_job.name)"
   ]
  },
  {
   "cell_type": "code",
   "execution_count": 4,
   "metadata": {},
   "outputs": [
    {
     "data": {
      "text/plain": [
       "['calm_duck_h5jpwj0gs8',\n",
       " 'funny_stick_ckp7jz2kdb',\n",
       " 'silver_juice_tsvhcs6sq7',\n",
       " 'coral_evening_33pkyhtrd1']"
      ]
     },
     "execution_count": 4,
     "metadata": {},
     "output_type": "execute_result"
    }
   ],
   "source": [
    "completed_jobs"
   ]
  }
 ],
 "metadata": {
  "kernelspec": {
   "display_name": "rc_133",
   "language": "python",
   "name": "python3"
  },
  "language_info": {
   "codemirror_mode": {
    "name": "ipython",
    "version": 3
   },
   "file_extension": ".py",
   "mimetype": "text/x-python",
   "name": "python",
   "nbconvert_exporter": "python",
   "pygments_lexer": "ipython3",
   "version": "3.7.10"
  }
 },
 "nbformat": 4,
 "nbformat_minor": 2
}
