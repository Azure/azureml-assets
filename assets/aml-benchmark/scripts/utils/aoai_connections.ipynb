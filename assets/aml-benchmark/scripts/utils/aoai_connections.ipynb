{
 "cells": [
  {
   "cell_type": "code",
   "execution_count": 1,
   "metadata": {},
   "outputs": [],
   "source": [
    "from azure.identity import DefaultAzureCredential\n",
    "from azure.mgmt.resource import ResourceManagementClient\n",
    "\n",
    "import json\n",
    "\n",
    "credential = DefaultAzureCredential()\n",
    "\n",
    "# replace with corresponding values\n",
    "subscription_id = \"\"\n",
    "resource_group_name = \"\"\n",
    "\n",
    "resource_client = ResourceManagementClient(credential, subscription_id=subscription_id)\n",
    "\n",
    "resource_type = \"Microsoft.CognitiveServices/accounts\"  # example resource type\n",
    "account_kind = 'OpenAI'\n",
    "\n",
    "print_details = True\n",
    "\n",
    "resources = list(\n",
    "    resource_client.resources.list_by_resource_group(\n",
    "        resource_group_name,\n",
    "        filter=f\"resourceType eq '{resource_type}'\"))\n",
    "# retain  only kind == 'OpenAI'\n",
    "resources = [r for r in resources if r.kind == account_kind]"
   ]
  },
  {
   "cell_type": "code",
   "execution_count": null,
   "metadata": {},
   "outputs": [],
   "source": [
    "for r in resources:\n",
    "    resource = resource_client.resources.get_by_id(r.id, \"2021-04-30\")  \n",
    "    print(\"=====================================\")\n",
    "    print(resource.name)\n",
    "    provisioned = resource.properties['provisioningState'] == 'Succeeded'   \n",
    "    print(f\"provisioning state: {resource.properties['provisioningState']}\")\n",
    "# uncomment the following if you want all the details\n",
    "#     print(f\"\"\"\n",
    "# +++++++++++++++++++++++++\n",
    "# {json.dumps(resource.serialize(), indent=4)}\n",
    "# ------------------------\"\"\")\n",
    "    if (provisioned):\n",
    "        print(f\"OAI Studio URLs: \")\n",
    "        print(f\" deployments - https://oai.azure.com/portal/{resource.properties['internalId']}/deployment\")\n",
    "        print(f\" quota (at subscription level) - https://oai.azure.com/portal/{resource.properties['internalId']}/quota\")\n",
    "    else:\n",
    "        print(f\"OAI Studio URLs: will only work if provisioning state is Succeeded. Skipping.\")\n",
    "# %%"
   ]
  }
 ],
 "metadata": {
  "kernelspec": {
   "display_name": "aml-benchmark",
   "language": "python",
   "name": "python3"
  },
  "language_info": {
   "codemirror_mode": {
    "name": "ipython",
    "version": 3
   },
   "file_extension": ".py",
   "mimetype": "text/x-python",
   "name": "python",
   "nbconvert_exporter": "python",
   "pygments_lexer": "ipython3",
   "version": "3.11.0"
  }
 },
 "nbformat": 4,
 "nbformat_minor": 2
}
