{
    "cells": [
        {
            "cell_type": "code",
            "execution_count": null,
            "metadata": {},
            "outputs": [],
            "source": [
                "from azure.identity import DefaultAzureCredential\n",
                "from azure.mgmt.resource import ResourceManagementClient\n",
                "\n",
                "import json\n",
                "\n",
                "credential = DefaultAzureCredential()\n",
                "\n",
                "# replace here with your subscription_id and resource_group_name\n",
                "subscription_id = \"???\"\n",
                "resource_group_name = \"????\"\n",
                "\n",
                "resource_client = ResourceManagementClient(credential, subscription_id=subscription_id)\n",
                "\n",
                "resource_type = \"Microsoft.CognitiveServices/accounts\"  # example resource type\n",
                "account_kind = 'OpenAI'\n",
                "\n",
                "print_details = True\n",
                "\n",
                "resources = list(\n",
                "    resource_client.resources.list_by_resource_group(\n",
                "        resource_group_name,\n",
                "        filter=f\"resourceType eq '{resource_type}'\"))\n",
                "# retain  only kind == 'OpenAI'\n",
                "# resources = [r for r in resources if r.kind == account_kind]"
            ]
        },
        {
            "cell_type": "code",
            "execution_count": null,
            "metadata": {},
            "outputs": [],
            "source": [
                "# define a function to list deployments for a OpenAi endpoint 0\n",
                "import requests\n",
                "\n",
                "auth = credential.get_token(\"https://management.azure.com/.default\")\n",
                "auth_token = auth.token\n",
                "\n",
                "def send_rest_request(url, method, headers, body):\n",
                "    headers[\"Authorization\"] = f\"Bearer {auth_token}\"\n",
                "    headers[\"Content-Type\"] = \"application/json\"\n",
                "    response = requests.request(method, url, headers=headers, data=body)\n",
                "    if response.status_code == 200:\n",
                "        return response.json()    \n",
                "    else:\n",
                "        print(f\"Error: {response.status_code}\")\n",
                "        print(response.text)\n",
                "        requests.raise_for_status(response)\n",
                "\n",
                "def list_deployments(account_name):\n",
                "    uri = f\"https://management.azure.com/subscriptions/{subscription_id}/resourceGroups/{resource_group_name}/providers/Microsoft.CognitiveServices/accounts/{account_name}/deployments?api-version=2023-05-01\"\n",
                "    response = send_rest_request(uri, \"GET\", {}, \"\")\n",
                "    return response\n",
                "\n"
            ]
        },
        {
            "cell_type": "code",
            "execution_count": null,
            "metadata": {},
            "outputs": [],
            "source": [
                "for r in resources:\n",
                "    resource = resource_client.resources.get_by_id(r.id, \"2021-04-30\")  \n",
                "    print(\"=====================================\")\n",
                "    print(resource.name)\n",
                "    provisioned = resource.properties['provisioningState'] == 'Succeeded'   \n",
                "    print(f\"provisioning state: {resource.properties['provisioningState']}\")\n",
                "    if print_details: \n",
                "        print(f\"\"\"\n",
                "# +++++++++++++++++++++++++\n",
                "# {json.dumps(resource.serialize(), indent=2)}\n",
                "# ------------------------\"\"\")\n",
                "    if (provisioned):\n",
                "        print(f\"OAI Studio URLs: \")\n",
                "        print(f\" deployments URL - https://oai.azure.com/portal/{resource.properties['internalId']}/deployment\")\n",
                "        print(f\" quota (at subscription level) - https://oai.azure.com/portal/{resource.properties['internalId']}/quota\")\n",
                "        print(\"~~~~~~~~ BEGIN deployments:\")\n",
                "        print(json.dumps(list_deployments(resource.name), indent=2))\n",
                "        print(\"~~~~~~~~ END deployments.\")\n",
                "    else:\n",
                "        print(f\"OAI Studio URLs: will only work if provisioning state is Succeeded. Skipping.\")\n",
                "    \n",
                "# %%"
            ]
        }
    ],
    "metadata": {
        "kernelspec": {
            "display_name": "aml-benchmark",
            "language": "python",
            "name": "python3"
        },
        "language_info": {
            "codemirror_mode": {
                "name": "ipython",
                "version": 3
            },
            "file_extension": ".py",
            "mimetype": "text/x-python",
            "name": "python",
            "nbconvert_exporter": "python",
            "pygments_lexer": "ipython3",
            "version": "3.11.0"
        }
    },
    "nbformat": 4,
    "nbformat_minor": 2
}
