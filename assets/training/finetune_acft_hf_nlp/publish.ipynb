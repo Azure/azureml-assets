{
 "cells": [
  {
   "cell_type": "code",
   "execution_count": 1,
   "metadata": {},
   "outputs": [
    {
     "name": "stderr",
     "output_type": "stream",
     "text": [
      "WARNING:root: UserIdentityConfiguration will be removed from the azure.ai.ml namespace in a future release. Please use the azure.ai.ml.entities namespace instead.\n"
     ]
    }
   ],
   "source": [
    "# Import required libraries\n",
    "from azure.ai.ml import MLClient, UserIdentityConfiguration, Input, load_component\n",
    "from azure.identity import (\n",
    "    DefaultAzureCredential,\n",
    "    InteractiveBrowserCredential,\n",
    ")\n",
    "from azure.ai.ml.dsl import pipeline\n",
    "try:\n",
    "    credential = InteractiveBrowserCredential()\n",
    "    # Check if given credential can get token successfully.\n",
    "    credential.get_token(\"https://management.azure.com/.default\")\n",
    "except Exception as ex:\n",
    "    # Fall back to InteractiveBrowserCredential in case DefaultAzureCredential not work\n",
    "    credential = InteractiveBrowserCredential()\n",
    "ml_client_registry = MLClient(credential, registry_name=\"azureml-preview-test1\")"
   ]
  },
  {
   "cell_type": "code",
   "execution_count": 2,
   "metadata": {},
   "outputs": [
    {
     "ename": "ValidationException",
     "evalue": "No such file or directory: ./finetune_acft_hf_nlp/components/pipeline_components/question_answering/spec.yaml",
     "output_type": "error",
     "traceback": [
      "\u001b[1;31m---------------------------------------------------------------------------\u001b[0m",
      "\u001b[1;31mFileNotFoundError\u001b[0m                         Traceback (most recent call last)",
      "File \u001b[1;32mc:\\Users\\v-patilvi\\AppData\\Local\\anaconda3\\envs\\auto_env\\Lib\\site-packages\\azure\\ai\\ml\\_utils\\utils.py:312\u001b[0m, in \u001b[0;36mload_yaml\u001b[1;34m(source)\u001b[0m\n\u001b[0;32m    311\u001b[0m \u001b[38;5;28;01mtry\u001b[39;00m:\n\u001b[1;32m--> 312\u001b[0m     cm \u001b[38;5;241m=\u001b[39m \u001b[38;5;28;43mopen\u001b[39;49m\u001b[43m(\u001b[49m\u001b[43msource\u001b[49m\u001b[43m,\u001b[49m\u001b[43m \u001b[49m\u001b[38;5;124;43m\"\u001b[39;49m\u001b[38;5;124;43mr\u001b[39;49m\u001b[38;5;124;43m\"\u001b[39;49m\u001b[43m,\u001b[49m\u001b[43m \u001b[49m\u001b[43mencoding\u001b[49m\u001b[38;5;241;43m=\u001b[39;49m\u001b[43mDefaultOpenEncoding\u001b[49m\u001b[38;5;241;43m.\u001b[39;49m\u001b[43mREAD\u001b[49m\u001b[43m)\u001b[49m\n\u001b[0;32m    313\u001b[0m \u001b[38;5;28;01mexcept\u001b[39;00m \u001b[38;5;167;01mOSError\u001b[39;00m \u001b[38;5;28;01mas\u001b[39;00m e:\n",
      "\u001b[1;31mFileNotFoundError\u001b[0m: [Errno 2] No such file or directory: './finetune_acft_hf_nlp/components/pipeline_components/question_answering/spec.yaml'",
      "\nThe above exception was the direct cause of the following exception:\n",
      "\u001b[1;31mValidationException\u001b[0m                       Traceback (most recent call last)",
      "Cell \u001b[1;32mIn[2], line 1\u001b[0m\n\u001b[1;32m----> 1\u001b[0m registration_component1 \u001b[38;5;241m=\u001b[39m \u001b[43mload_component\u001b[49m\u001b[43m(\u001b[49m\u001b[38;5;124;43m\"\u001b[39;49m\u001b[38;5;124;43m./finetune_acft_hf_nlp/components/pipeline_components/question_answering/spec.yaml\u001b[39;49m\u001b[38;5;124;43m\"\u001b[39;49m\u001b[43m)\u001b[49m\n\u001b[0;32m      2\u001b[0m registration_component2 \u001b[38;5;241m=\u001b[39m load_component(\u001b[38;5;124m\"\u001b[39m\u001b[38;5;124m./finetune_acft_hf_nlp/components/pipeline_components/summarization/spec.yaml\u001b[39m\u001b[38;5;124m\"\u001b[39m)\n\u001b[0;32m      3\u001b[0m registration_component3 \u001b[38;5;241m=\u001b[39m load_component(\u001b[38;5;124m\"\u001b[39m\u001b[38;5;124m./finetune_acft_hf_nlp/components/pipeline_components/token_classification/spec.yaml\u001b[39m\u001b[38;5;124m\"\u001b[39m)\n",
      "File \u001b[1;32mc:\\Users\\v-patilvi\\AppData\\Local\\anaconda3\\envs\\auto_env\\Lib\\site-packages\\azure\\ai\\ml\\entities\\_load_functions.py:411\u001b[0m, in \u001b[0;36mload_component\u001b[1;34m(source, relative_origin, **kwargs)\u001b[0m\n\u001b[0;32m    408\u001b[0m version \u001b[38;5;241m=\u001b[39m kwargs\u001b[38;5;241m.\u001b[39mpop(\u001b[38;5;124m\"\u001b[39m\u001b[38;5;124mversion\u001b[39m\u001b[38;5;124m\"\u001b[39m, \u001b[38;5;28;01mNone\u001b[39;00m)\n\u001b[0;32m    410\u001b[0m \u001b[38;5;28;01mif\u001b[39;00m source:\n\u001b[1;32m--> 411\u001b[0m     component_entity \u001b[38;5;241m=\u001b[39m \u001b[43mload_common\u001b[49m\u001b[43m(\u001b[49m\u001b[43mComponent\u001b[49m\u001b[43m,\u001b[49m\u001b[43m \u001b[49m\u001b[43msource\u001b[49m\u001b[43m,\u001b[49m\u001b[43m \u001b[49m\u001b[43mrelative_origin\u001b[49m\u001b[43m,\u001b[49m\u001b[43m \u001b[49m\u001b[38;5;241;43m*\u001b[39;49m\u001b[38;5;241;43m*\u001b[39;49m\u001b[43mkwargs\u001b[49m\u001b[43m)\u001b[49m\n\u001b[0;32m    412\u001b[0m \u001b[38;5;28;01melif\u001b[39;00m client \u001b[38;5;129;01mand\u001b[39;00m name \u001b[38;5;129;01mand\u001b[39;00m version:\n\u001b[0;32m    413\u001b[0m     component_entity \u001b[38;5;241m=\u001b[39m client\u001b[38;5;241m.\u001b[39mcomponents\u001b[38;5;241m.\u001b[39mget(name, version)\n",
      "File \u001b[1;32mc:\\Users\\v-patilvi\\AppData\\Local\\anaconda3\\envs\\auto_env\\Lib\\site-packages\\azure\\ai\\ml\\entities\\_load_functions.py:94\u001b[0m, in \u001b[0;36mload_common\u001b[1;34m(cls, source, relative_origin, params_override, **kwargs)\u001b[0m\n\u001b[0;32m     91\u001b[0m             relative_origin \u001b[38;5;241m=\u001b[39m _DEFAULT_RELATIVE_ORIGIN\n\u001b[0;32m     93\u001b[0m params_override \u001b[38;5;241m=\u001b[39m params_override \u001b[38;5;129;01mor\u001b[39;00m []\n\u001b[1;32m---> 94\u001b[0m yaml_dict \u001b[38;5;241m=\u001b[39m \u001b[43m_try_load_yaml_dict\u001b[49m\u001b[43m(\u001b[49m\u001b[43msource\u001b[49m\u001b[43m)\u001b[49m\n\u001b[0;32m     96\u001b[0m \u001b[38;5;66;03m# pylint: disable=protected-access\u001b[39;00m\n\u001b[0;32m     97\u001b[0m \u001b[38;5;28mcls\u001b[39m, type_str \u001b[38;5;241m=\u001b[39m \u001b[38;5;28mcls\u001b[39m\u001b[38;5;241m.\u001b[39m_resolve_cls_and_type(data\u001b[38;5;241m=\u001b[39myaml_dict, params_override\u001b[38;5;241m=\u001b[39mparams_override)\n",
      "File \u001b[1;32mc:\\Users\\v-patilvi\\AppData\\Local\\anaconda3\\envs\\auto_env\\Lib\\site-packages\\azure\\ai\\ml\\entities\\_load_functions.py:130\u001b[0m, in \u001b[0;36m_try_load_yaml_dict\u001b[1;34m(source)\u001b[0m\n\u001b[0;32m    129\u001b[0m \u001b[38;5;28;01mdef\u001b[39;00m \u001b[38;5;21m_try_load_yaml_dict\u001b[39m(source: Union[\u001b[38;5;28mstr\u001b[39m, PathLike, IO[AnyStr]]) \u001b[38;5;241m-\u001b[39m\u001b[38;5;241m>\u001b[39m \u001b[38;5;28mdict\u001b[39m:\n\u001b[1;32m--> 130\u001b[0m     yaml_dict \u001b[38;5;241m=\u001b[39m \u001b[43mload_yaml\u001b[49m\u001b[43m(\u001b[49m\u001b[43msource\u001b[49m\u001b[43m)\u001b[49m\n\u001b[0;32m    131\u001b[0m     \u001b[38;5;28;01mif\u001b[39;00m yaml_dict \u001b[38;5;129;01mis\u001b[39;00m \u001b[38;5;28;01mNone\u001b[39;00m:  \u001b[38;5;66;03m# This happens when a YAML is empty.\u001b[39;00m\n\u001b[0;32m    132\u001b[0m         msg \u001b[38;5;241m=\u001b[39m \u001b[38;5;124m\"\u001b[39m\u001b[38;5;124mTarget yaml file is empty\u001b[39m\u001b[38;5;124m\"\u001b[39m\n",
      "File \u001b[1;32mc:\\Users\\v-patilvi\\AppData\\Local\\anaconda3\\envs\\auto_env\\Lib\\site-packages\\azure\\ai\\ml\\_utils\\utils.py:315\u001b[0m, in \u001b[0;36mload_yaml\u001b[1;34m(source)\u001b[0m\n\u001b[0;32m    313\u001b[0m     \u001b[38;5;28;01mexcept\u001b[39;00m \u001b[38;5;167;01mOSError\u001b[39;00m \u001b[38;5;28;01mas\u001b[39;00m e:\n\u001b[0;32m    314\u001b[0m         msg \u001b[38;5;241m=\u001b[39m \u001b[38;5;124m\"\u001b[39m\u001b[38;5;124mNo such file or directory: \u001b[39m\u001b[38;5;132;01m{}\u001b[39;00m\u001b[38;5;124m\"\u001b[39m\n\u001b[1;32m--> 315\u001b[0m         \u001b[38;5;28;01mraise\u001b[39;00m ValidationException(\n\u001b[0;32m    316\u001b[0m             message\u001b[38;5;241m=\u001b[39mmsg\u001b[38;5;241m.\u001b[39mformat(source),\n\u001b[0;32m    317\u001b[0m             no_personal_data_message\u001b[38;5;241m=\u001b[39mmsg\u001b[38;5;241m.\u001b[39mformat(\u001b[38;5;124m\"\u001b[39m\u001b[38;5;124m[file_path]\u001b[39m\u001b[38;5;124m\"\u001b[39m),\n\u001b[0;32m    318\u001b[0m             error_category\u001b[38;5;241m=\u001b[39mErrorCategory\u001b[38;5;241m.\u001b[39mUSER_ERROR,\n\u001b[0;32m    319\u001b[0m             target\u001b[38;5;241m=\u001b[39mErrorTarget\u001b[38;5;241m.\u001b[39mGENERAL,\n\u001b[0;32m    320\u001b[0m             error_type\u001b[38;5;241m=\u001b[39mValidationErrorType\u001b[38;5;241m.\u001b[39mFILE_OR_FOLDER_NOT_FOUND,\n\u001b[0;32m    321\u001b[0m         ) \u001b[38;5;28;01mfrom\u001b[39;00m \u001b[38;5;21;01me\u001b[39;00m\n\u001b[0;32m    322\u001b[0m \u001b[38;5;28;01melse\u001b[39;00m:\n\u001b[0;32m    323\u001b[0m     \u001b[38;5;66;03m# source is a subclass of IO\u001b[39;00m\n\u001b[0;32m    324\u001b[0m     \u001b[38;5;28;01mif\u001b[39;00m \u001b[38;5;129;01mnot\u001b[39;00m source\u001b[38;5;241m.\u001b[39mreadable():\n",
      "\u001b[1;31mValidationException\u001b[0m: No such file or directory: ./finetune_acft_hf_nlp/components/pipeline_components/question_answering/spec.yaml"
     ]
    }
   ],
   "source": [
    "\n",
    "registration_component1 = load_component(\"./components/pipeline_components/question_answering/spec.yaml\")\n",
    "registration_component2 = load_component(\"./components/pipeline_components/summarization/spec.yaml\")\n",
    "registration_component3 = load_component(\"./components/pipeline_components/token_classification/spec.yaml\")\n",
    "registration_component4 = load_component(\"./components/pipeline_components/text_classification/spec.yaml\")\n",
    "registration_component5 = load_component(\"./components/pipeline_components/text_generation/spec.yaml\")\n",
    "registration_component6 = load_component(\"./components/pipeline_components/translation/spec.yaml\")\n",
    "\n",
    "ml_client_registry.components.create_or_update(registration_component1)\n",
    "ml_client_registry.components.create_or_update(registration_component2)\n",
    "ml_client_registry.components.create_or_update(registration_component3)\n",
    "ml_client_registry.components.create_or_update(registration_component4)\n",
    "ml_client_registry.components.create_or_update(registration_component5)\n",
    "ml_client_registry.components.create_or_update(registration_component6)"
   ]
  },
  {
   "cell_type": "code",
   "execution_count": null,
   "metadata": {},
   "outputs": [],
   "source": []
  },
  {
   "cell_type": "code",
   "execution_count": null,
   "metadata": {},
   "outputs": [],
   "source": [
    "[22-03 12:49] Anubha Jain\n",
    "registration_component1 = load_component(\"D:/Repos/azureml-assets/assets/training/finetune_acft_hf_nlp/components/pipeline_components/question_answering/spec.yaml\")\n",
    "registration_component2 = load_component(\"D:/Repos/azureml-assets/assets/training/finetune_acft_hf_nlp/components/pipeline_components/summarization/spec.yaml\")\n",
    "registration_component3 = load_component(\"D:/Repos/azureml-assets/assets/training/finetune_acft_hf_nlp/components/pipeline_components/token_classification/spec.yaml\")\n",
    "registration_component4 = load_component(\"D:/Repos/azureml-assets/assets/training/finetune_acft_hf_nlp/components/pipeline_components/text_classification/spec.yaml\")\n",
    "registration_component5 = load_component(\"D:/Repos/azureml-assets/assets/training/finetune_acft_hf_nlp/components/pipeline_components/text_generation/spec.yaml\")\n",
    "registration_component6 = load_component(\"D:/Repos/azureml-assets/assets/training/finetune_acft_hf_nlp/components/pipeline_components/translation/spec.yaml\")\n",
    "[22-03 12:50] Anubha Jain\n",
    "ml_client_registry.components.create_or_update(registration_component1)\n",
    "ml_client_registry.components.create_or_update(registration_component2)\n",
    "ml_client_registry.components.create_or_update(registration_component3)\n",
    "ml_client_registry.components.create_or_update(registration_component4)\n",
    "ml_client_registry.components.create_or_update(registration_component5)\n",
    "ml_client_registry.components.create_or_update(registration_component6)"
   ]
  }
 ],
 "metadata": {
  "kernelspec": {
   "display_name": "auto_env",
   "language": "python",
   "name": "python3"
  },
  "language_info": {
   "codemirror_mode": {
    "name": "ipython",
    "version": 3
   },
   "file_extension": ".py",
   "mimetype": "text/x-python",
   "name": "python",
   "nbconvert_exporter": "python",
   "pygments_lexer": "ipython3",
   "version": "3.11.5"
  }
 },
 "nbformat": 4,
 "nbformat_minor": 2
}
