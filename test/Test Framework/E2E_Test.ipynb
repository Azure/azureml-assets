{
 "cells": [
  {
   "cell_type": "code",
   "execution_count": 16,
   "metadata": {},
   "outputs": [],
   "source": [
    "from pathlib import Path\n",
    "import os\n",
    "import sys\n",
    "import ruamel.yaml\n",
    "full_version = sys.argv[1]\n",
    "Test_file_Dir = sys.argv[2]"
   ]
  },
  {
   "cell_type": "code",
   "execution_count": 17,
   "metadata": {},
   "outputs": [],
   "source": [
    "def test_az_ml_job_create(DIR: Path):\n",
    "    stream = os.popen(\"az ml job create -f {DIR}\")\n",
    "    output = stream.read()\n",
    "    print(output)"
   ]
  },
  {
   "cell_type": "code",
   "execution_count": 18,
   "metadata": {},
   "outputs": [
    {
     "name": "stdout",
     "output_type": "stream",
     "text": [
      "\n"
     ]
    }
   ],
   "source": [
    "def test_files_preprocess(DIR: Path, full_version: str):\n",
    "    yaml = ruamel.yaml.YAML()\n",
    "    for x in os.listdir(DIR.__str__()):\n",
    "        with open(x) as fp:\n",
    "            data = yaml.load(fp)\n",
    "        for job in data[\"jobs\"]:\n",
    "            print(\"processing asset\"+data[\"jobs\"][job][\"component\"])\n",
    "            original_asset = data[\"jobs\"][job][\"component\"]\n",
    "            new_asset = process_asset_id(original_asset, full_version)\n",
    "            data[\"jobs\"][job][\"component\"] = new_asset\n",
    "            print(data[\"jobs\"][job][\"component\"])\n",
    "        with open(DIR.__str__()+\"/\"+x, \"w\") as file:\n",
    "            yaml.dump(data, file)\n",
    "\n",
    "                \n",
    "\n",
    "         "
   ]
  },
  {
   "cell_type": "code",
   "execution_count": null,
   "metadata": {},
   "outputs": [],
   "source": [
    "\n",
    "def process_asset_id(asset_id, full_version):\n",
    "    list = asset_id.split(\"/\")\n",
    "    list[-1] += full_version\n",
    "    list[-5] = \"azureml-staging\"\n",
    "    return \"/\".join(list)"
   ]
  }
 ],
 "metadata": {
  "interpreter": {
   "hash": "d71fd1fecbdc64e93a81c4c985f14260883ea1c978346f83380e5854cbe60b55"
  },
  "kernelspec": {
   "display_name": "Python 3.9.6 64-bit",
   "language": "python",
   "name": "python3"
  },
  "language_info": {
   "codemirror_mode": {
    "name": "ipython",
    "version": 3
   },
   "file_extension": ".py",
   "mimetype": "text/x-python",
   "name": "python",
   "nbconvert_exporter": "python",
   "pygments_lexer": "ipython3",
   "version": "3.9.6"
  },
  "orig_nbformat": 4
 },
 "nbformat": 4,
 "nbformat_minor": 2
}
